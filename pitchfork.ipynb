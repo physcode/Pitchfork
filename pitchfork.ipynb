{
 "cells": [
  {
   "cell_type": "markdown",
   "metadata": {},
   "source": [
    "# Data Analysis of Pitchfork Review SQL dataset"
   ]
  },
  {
   "cell_type": "markdown",
   "metadata": {},
   "source": [
    "Pitchfork.com is a website where users publically upload reviews of albums. The data of over 20,000 reviews is analysed in this notebook. Firstly some exploratory data analysis is needed to understand the data before posing questions. We start by opening a connection to the SQLite database stored locally within the python environment:"
   ]
  },
  {
   "cell_type": "code",
   "execution_count": 64,
   "metadata": {},
   "outputs": [
    {
     "data": {
      "text/html": [
       "<div>\n",
       "<style scoped>\n",
       "    .dataframe tbody tr th:only-of-type {\n",
       "        vertical-align: middle;\n",
       "    }\n",
       "\n",
       "    .dataframe tbody tr th {\n",
       "        vertical-align: top;\n",
       "    }\n",
       "\n",
       "    .dataframe thead th {\n",
       "        text-align: right;\n",
       "    }\n",
       "</style>\n",
       "<table border=\"1\" class=\"dataframe\">\n",
       "  <thead>\n",
       "    <tr style=\"text-align: right;\">\n",
       "      <th></th>\n",
       "      <th>score</th>\n",
       "      <th>genre</th>\n",
       "      <th>pub_year</th>\n",
       "    </tr>\n",
       "  </thead>\n",
       "  <tbody>\n",
       "    <tr>\n",
       "      <th>0</th>\n",
       "      <td>9.3</td>\n",
       "      <td>electronic</td>\n",
       "      <td>2017</td>\n",
       "    </tr>\n",
       "    <tr>\n",
       "      <th>1</th>\n",
       "      <td>7.9</td>\n",
       "      <td>metal</td>\n",
       "      <td>2017</td>\n",
       "    </tr>\n",
       "    <tr>\n",
       "      <th>2</th>\n",
       "      <td>7.3</td>\n",
       "      <td>rock</td>\n",
       "      <td>2017</td>\n",
       "    </tr>\n",
       "    <tr>\n",
       "      <th>3</th>\n",
       "      <td>9.0</td>\n",
       "      <td>rock</td>\n",
       "      <td>2017</td>\n",
       "    </tr>\n",
       "    <tr>\n",
       "      <th>4</th>\n",
       "      <td>8.1</td>\n",
       "      <td>electronic</td>\n",
       "      <td>2017</td>\n",
       "    </tr>\n",
       "  </tbody>\n",
       "</table>\n",
       "</div>"
      ],
      "text/plain": [
       "   score       genre  pub_year\n",
       "0    9.3  electronic      2017\n",
       "1    7.9       metal      2017\n",
       "2    7.3        rock      2017\n",
       "3    9.0        rock      2017\n",
       "4    8.1  electronic      2017"
      ]
     },
     "execution_count": 64,
     "metadata": {},
     "output_type": "execute_result"
    }
   ],
   "source": [
    "from sqlalchemy import create_engine\n",
    "import pandas as pd\n",
    "import matplotlib.pyplot as plt\n",
    "import seaborn as sns\n",
    "import numpy as np\n",
    "\n",
    "engine = create_engine('sqlite:///pitchfork.sqlite')\n",
    "con = engine.connect()\n",
    "#insert query string to initialise the ResultProxy\n",
    "proxy = con.execute('SELECT score,genre,pub_year\\\n",
    "                    FROM reviews\\\n",
    "                    INNER JOIN genres USING(reviewid)')\n",
    "#convert to a pandas dataframe for more intricate manipulation\n",
    "gen_rev = pd.DataFrame(proxy.fetchall())\n",
    "gen_rev.columns = proxy.keys()\n",
    "con.close()\n",
    "\n",
    "gen_rev.head()"
   ]
  },
  {
   "cell_type": "markdown",
   "metadata": {},
   "source": [
    "#The purpose of this connection is to load the relevant columns from the SQL relational database into a pandas DataFrame for more intricate analysis. The matplotlib.pyplot and seaborn modules are also imported in order to later visualise data."
   ]
  },
  {
   "cell_type": "markdown",
   "metadata": {},
   "source": [
    "## 1) Correlations between review score and genre."
   ]
  },
  {
   "cell_type": "markdown",
   "metadata": {},
   "source": [
    "First we can investigate if different genres have an impact on the mean score recieved. We can start by taking a global average of all genres and comparing to the mean within genre, which turns out to be about 7. "
   ]
  },
  {
   "cell_type": "code",
   "execution_count": 65,
   "metadata": {},
   "outputs": [
    {
     "name": "stdout",
     "output_type": "stream",
     "text": [
      "6.991154693697664\n"
     ]
    }
   ],
   "source": [
    "mean_score = gen_rev['score'].mean()\n",
    "print(mean_score)"
   ]
  },
  {
   "cell_type": "markdown",
   "metadata": {},
   "source": [
    "Now we can group by genre and see how that affects the results. Since we are analysing aggregate functions of discrete groups of data, the best visualisation of this data would be box plots. This way we can compare to our overall mean score. We will omitt missing genre data values so they do not skew the rest of the data."
   ]
  },
  {
   "cell_type": "code",
   "execution_count": 67,
   "metadata": {},
   "outputs": [
    {
     "name": "stdout",
     "output_type": "stream",
     "text": [
      "                 score     pub_year\n",
      "genre                              \n",
      "electronic    6.920702  2008.430821\n",
      "experimental  7.336694  2008.206061\n",
      "folk/country  7.202190  2008.483212\n",
      "global        7.429680  2008.899543\n",
      "jazz          7.303908  2006.977011\n",
      "metal         6.950000  2008.595128\n",
      "pop/r&b       6.883799  2009.456704\n",
      "rap           6.900513  2010.086594\n",
      "rock          6.942011  2007.957618\n"
     ]
    }
   ],
   "source": [
    "gen_rev.dropna()\n",
    "gen = gen_rev.groupby('genre').mean()\n",
    "print(gen)"
   ]
  },
  {
   "cell_type": "code",
   "execution_count": 68,
   "metadata": {},
   "outputs": [
    {
     "data": {
      "image/png": "[encoded data removed]",
      "text/plain": [
       "<Figure size 1080x720 with 1 Axes>"
      ]
     },
     "metadata": {
      "needs_background": "light"
     },
     "output_type": "display_data"
    }
   ],
   "source": [
    "%matplotlib inline\n",
    "plt.rcParams['figure.figsize'] = [15, 10]\n",
    "box = sns.boxplot(x='genre',y='score',data=gen_rev,showfliers=False)\n",
    "box.set_xticklabels(box.get_xticklabels(),rotation = 45)\n",
    "plt.show()"
   ]
  },
  {
   "cell_type": "markdown",
   "metadata": {},
   "source": [
    " Generally, all genres have similar means to the global mean of score 7. Experimental, Jazz and Global/World music seem to have slightly higher average scores. One of the standout features is that electronic, rock, rap, and pop have quite wide plots, indicating that the variance in these genres is quite high, where as all the rest are quite low. The wide swing in genre score for these genres could be correlated with the amount of reviews for these genres."
   ]
  },
  {
   "cell_type": "code",
   "execution_count": 110,
   "metadata": {},
   "outputs": [
    {
     "data": {
      "text/html": [
       "<div>\n",
       "<style scoped>\n",
       "    .dataframe tbody tr th:only-of-type {\n",
       "        vertical-align: middle;\n",
       "    }\n",
       "\n",
       "    .dataframe tbody tr th {\n",
       "        vertical-align: top;\n",
       "    }\n",
       "\n",
       "    .dataframe thead th {\n",
       "        text-align: right;\n",
       "    }\n",
       "</style>\n",
       "<table border=\"1\" class=\"dataframe\">\n",
       "  <thead>\n",
       "    <tr style=\"text-align: right;\">\n",
       "      <th></th>\n",
       "      <th>Count</th>\n",
       "    </tr>\n",
       "    <tr>\n",
       "      <th>genre</th>\n",
       "      <th></th>\n",
       "    </tr>\n",
       "  </thead>\n",
       "  <tbody>\n",
       "    <tr>\n",
       "      <th>electronic</th>\n",
       "      <td>3874</td>\n",
       "    </tr>\n",
       "    <tr>\n",
       "      <th>experimental</th>\n",
       "      <td>1815</td>\n",
       "    </tr>\n",
       "    <tr>\n",
       "      <th>folk/country</th>\n",
       "      <td>685</td>\n",
       "    </tr>\n",
       "    <tr>\n",
       "      <th>global</th>\n",
       "      <td>219</td>\n",
       "    </tr>\n",
       "    <tr>\n",
       "      <th>jazz</th>\n",
       "      <td>435</td>\n",
       "    </tr>\n",
       "    <tr>\n",
       "      <th>metal</th>\n",
       "      <td>862</td>\n",
       "    </tr>\n",
       "    <tr>\n",
       "      <th>pop/r&amp;b</th>\n",
       "      <td>1432</td>\n",
       "    </tr>\n",
       "    <tr>\n",
       "      <th>rap</th>\n",
       "      <td>1559</td>\n",
       "    </tr>\n",
       "    <tr>\n",
       "      <th>rock</th>\n",
       "      <td>9438</td>\n",
       "    </tr>\n",
       "  </tbody>\n",
       "</table>\n",
       "</div>"
      ],
      "text/plain": [
       "              Count\n",
       "genre              \n",
       "electronic     3874\n",
       "experimental   1815\n",
       "folk/country    685\n",
       "global          219\n",
       "jazz            435\n",
       "metal           862\n",
       "pop/r&b        1432\n",
       "rap            1559\n",
       "rock           9438"
      ]
     },
     "execution_count": 110,
     "metadata": {},
     "output_type": "execute_result"
    }
   ],
   "source": [
    "counts = gen_rev[['score','genre']].groupby('genre').count()\n",
    "counts.columns = ['Count']\n",
    "counts"
   ]
  },
  {
   "cell_type": "markdown",
   "metadata": {},
   "source": [
    "Seems there could be a connection between number of reviews and the size of the box plot (max-min excluding outliers). To do this we must write a function to return maximum and minimum values."
   ]
  },
  {
   "cell_type": "code",
   "execution_count": 116,
   "metadata": {},
   "outputs": [],
   "source": [
    "def maxmin(x):\n",
    "    \"\"\"Takes a pandas dataseries as argument and returns the width of the box plot whiskers\"\"\"\n",
    "    Q1, Q3 = np.percentile(x,[25,75])\n",
    "    IQR = Q3 - Q1\n",
    "    uppb = Q3 + 1.5*IQR\n",
    "    lowb = Q1 - 1.5*IQR\n",
    "    diff = uppb - lowb\n",
    "    return diff"
   ]
  },
  {
   "cell_type": "markdown",
   "metadata": {},
   "source": [
    "Now we can apply it to our scores for each genre and see if there is a correlation."
   ]
  },
  {
   "cell_type": "code",
   "execution_count": 117,
   "metadata": {},
   "outputs": [
    {
     "data": {
      "text/plain": [
       "genre\n",
       "electronic      6.0\n",
       "experimental    4.8\n",
       "folk/country    4.4\n",
       "global          4.4\n",
       "jazz            4.4\n",
       "metal           5.6\n",
       "pop/r&b         6.0\n",
       "rap             6.0\n",
       "rock            6.0\n",
       "dtype: float64"
      ]
     },
     "execution_count": 117,
     "metadata": {},
     "output_type": "execute_result"
    }
   ],
   "source": [
    "size = gen_rev[['genre','score']].groupby('genre').apply(maxmin)\n",
    "size"
   ]
  },
  {
   "cell_type": "markdown",
   "metadata": {},
   "source": [
    "Let's make a scatter plot of the data range against data size for each genre. "
   ]
  },
  {
   "cell_type": "code",
   "execution_count": 151,
   "metadata": {},
   "outputs": [
    {
     "data": {
      "image/png": "[encoded data removed]",
      "text/plain": [
       "<Figure size 1080x720 with 1 Axes>"
      ]
     },
     "metadata": {
      "needs_background": "light"
     },
     "output_type": "display_data"
    }
   ],
   "source": [
    "plt.scatter(list(np.float_(counts.Count)),list(np.array(size)))\n",
    "plt.xlabel('Number of reviews')\n",
    "plt.ylabel('Size of boxplot')\n",
    "\n",
    "plt.show()"
   ]
  },
  {
   "cell_type": "markdown",
   "metadata": {},
   "source": [
    "From this we can conclude that there is a general trend that the more populated genres have larger data ranges, which is to be expected, but we do not have enough genres to work with to make a general comment about their correlation!"
   ]
  },
  {
   "cell_type": "markdown",
   "metadata": {},
   "source": [
    "## 2) How does review year affect review score?"
   ]
  },
  {
   "cell_type": "markdown",
   "metadata": {},
   "source": [
    "The dataset runs from 1999 to 2017. Could it be that the reviews have become more or less critical on average?"
   ]
  },
  {
   "cell_type": "code",
   "execution_count": 89,
   "metadata": {},
   "outputs": [
    {
     "data": {
      "text/html": [
       "<div>\n",
       "<style scoped>\n",
       "    .dataframe tbody tr th:only-of-type {\n",
       "        vertical-align: middle;\n",
       "    }\n",
       "\n",
       "    .dataframe tbody tr th {\n",
       "        vertical-align: top;\n",
       "    }\n",
       "\n",
       "    .dataframe thead th {\n",
       "        text-align: right;\n",
       "    }\n",
       "</style>\n",
       "<table border=\"1\" class=\"dataframe\">\n",
       "  <thead>\n",
       "    <tr style=\"text-align: right;\">\n",
       "      <th></th>\n",
       "      <th>score</th>\n",
       "    </tr>\n",
       "    <tr>\n",
       "      <th>pub_year</th>\n",
       "      <th></th>\n",
       "    </tr>\n",
       "  </thead>\n",
       "  <tbody>\n",
       "    <tr>\n",
       "      <th>1999-12-31</th>\n",
       "      <td>6.806485</td>\n",
       "    </tr>\n",
       "    <tr>\n",
       "      <th>2000-12-31</th>\n",
       "      <td>6.815743</td>\n",
       "    </tr>\n",
       "    <tr>\n",
       "      <th>2001-12-31</th>\n",
       "      <td>7.130265</td>\n",
       "    </tr>\n",
       "    <tr>\n",
       "      <th>2002-12-31</th>\n",
       "      <td>6.841544</td>\n",
       "    </tr>\n",
       "    <tr>\n",
       "      <th>2003-12-31</th>\n",
       "      <td>6.936377</td>\n",
       "    </tr>\n",
       "    <tr>\n",
       "      <th>2004-12-31</th>\n",
       "      <td>7.196025</td>\n",
       "    </tr>\n",
       "    <tr>\n",
       "      <th>2005-12-31</th>\n",
       "      <td>7.038633</td>\n",
       "    </tr>\n",
       "    <tr>\n",
       "      <th>2006-12-31</th>\n",
       "      <td>6.978964</td>\n",
       "    </tr>\n",
       "    <tr>\n",
       "      <th>2007-12-31</th>\n",
       "      <td>6.871085</td>\n",
       "    </tr>\n",
       "    <tr>\n",
       "      <th>2008-12-31</th>\n",
       "      <td>6.889045</td>\n",
       "    </tr>\n",
       "    <tr>\n",
       "      <th>2009-12-31</th>\n",
       "      <td>6.786214</td>\n",
       "    </tr>\n",
       "    <tr>\n",
       "      <th>2010-12-31</th>\n",
       "      <td>6.941281</td>\n",
       "    </tr>\n",
       "    <tr>\n",
       "      <th>2011-12-31</th>\n",
       "      <td>7.013876</td>\n",
       "    </tr>\n",
       "    <tr>\n",
       "      <th>2012-12-31</th>\n",
       "      <td>6.993465</td>\n",
       "    </tr>\n",
       "    <tr>\n",
       "      <th>2013-12-31</th>\n",
       "      <td>7.012006</td>\n",
       "    </tr>\n",
       "    <tr>\n",
       "      <th>2014-12-31</th>\n",
       "      <td>7.080495</td>\n",
       "    </tr>\n",
       "    <tr>\n",
       "      <th>2015-12-31</th>\n",
       "      <td>7.109052</td>\n",
       "    </tr>\n",
       "    <tr>\n",
       "      <th>2016-12-31</th>\n",
       "      <td>7.240535</td>\n",
       "    </tr>\n",
       "    <tr>\n",
       "      <th>2017-12-31</th>\n",
       "      <td>7.364706</td>\n",
       "    </tr>\n",
       "  </tbody>\n",
       "</table>\n",
       "</div>"
      ],
      "text/plain": [
       "               score\n",
       "pub_year            \n",
       "1999-12-31  6.806485\n",
       "2000-12-31  6.815743\n",
       "2001-12-31  7.130265\n",
       "2002-12-31  6.841544\n",
       "2003-12-31  6.936377\n",
       "2004-12-31  7.196025\n",
       "2005-12-31  7.038633\n",
       "2006-12-31  6.978964\n",
       "2007-12-31  6.871085\n",
       "2008-12-31  6.889045\n",
       "2009-12-31  6.786214\n",
       "2010-12-31  6.941281\n",
       "2011-12-31  7.013876\n",
       "2012-12-31  6.993465\n",
       "2013-12-31  7.012006\n",
       "2014-12-31  7.080495\n",
       "2015-12-31  7.109052\n",
       "2016-12-31  7.240535\n",
       "2017-12-31  7.364706"
      ]
     },
     "execution_count": 89,
     "metadata": {},
     "output_type": "execute_result"
    }
   ],
   "source": [
    "gen_rev.index = gen_rev.pub_year\n",
    "gen_rev.index = pd.to_datetime(gen_rev.index,format='%Y')\n",
    "resampled = pd.DataFrame()\n",
    "resampled['score'] = gen_rev.score.resample('A').mean()\n",
    "resampled"
   ]
  },
  {
   "cell_type": "code",
   "execution_count": 146,
   "metadata": {},
   "outputs": [
    {
     "data": {
      "image/png": "[encoded data removed]",
      "text/plain": [
       "<Figure size 1080x720 with 1 Axes>"
      ]
     },
     "metadata": {
      "needs_background": "light"
     },
     "output_type": "display_data"
    }
   ],
   "source": [
    "plt.plot(resampled.index,resampled['score'])\n",
    "plt.xlabel('Year of Release')\n",
    "plt.ylabel('Mean Score per Year')\n",
    "plt.show()"
   ]
  },
  {
   "cell_type": "markdown",
   "metadata": {},
   "source": [
    "Quite an interesting result! There seems to be a larger variation in the earlier reviews in about the 7 range. Close to 2005 to 2010 the review authors, seem to have been getting more critical. After 2010 the scores generally inclined."
   ]
  },
  {
   "cell_type": "code",
   "execution_count": null,
   "metadata": {},
   "outputs": [],
   "source": []
  }
 ],
 "metadata": {
  "kernelspec": {
   "display_name": "Python 3",
   "language": "python",
   "name": "python3"
  },
  "language_info": {
   "codemirror_mode": {
    "name": "ipython",
    "version": 3
   },
   "file_extension": ".py",
   "mimetype": "text/x-python",
   "name": "python",
   "nbconvert_exporter": "python",
   "pygments_lexer": "ipython3",
   "version": "3.7.3"
  }
 },
 "nbformat": 4,
 "nbformat_minor": 2
}
